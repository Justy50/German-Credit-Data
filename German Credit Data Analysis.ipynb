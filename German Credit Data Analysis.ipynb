{
 "cells": [
  {
   "cell_type": "markdown",
   "metadata": {},
   "source": [
    "## German Credit Data"
   ]
  },
  {
   "cell_type": "code",
   "execution_count": 162,
   "metadata": {},
   "outputs": [],
   "source": [
    "import pandas as pd\n",
    "import numpy as np\n",
    "import seaborn as sns\n",
    "import matplotlib.pyplot as plt"
   ]
  },
  {
   "cell_type": "code",
   "execution_count": 163,
   "metadata": {},
   "outputs": [],
   "source": [
    "df = pd.read_csv('German_Credit_data.csv')"
   ]
  },
  {
   "cell_type": "code",
   "execution_count": 164,
   "metadata": {},
   "outputs": [
    {
     "data": {
      "text/html": [
       "<div>\n",
       "<style scoped>\n",
       "    .dataframe tbody tr th:only-of-type {\n",
       "        vertical-align: middle;\n",
       "    }\n",
       "\n",
       "    .dataframe tbody tr th {\n",
       "        vertical-align: top;\n",
       "    }\n",
       "\n",
       "    .dataframe thead th {\n",
       "        text-align: right;\n",
       "    }\n",
       "</style>\n",
       "<table border=\"1\" class=\"dataframe\">\n",
       "  <thead>\n",
       "    <tr style=\"text-align: right;\">\n",
       "      <th></th>\n",
       "      <th>Creditability</th>\n",
       "      <th>Status_of_existing_account</th>\n",
       "      <th>Duration_of_Credit_month</th>\n",
       "      <th>Payment_Status_of_Previous_Credit(Credit_history)</th>\n",
       "      <th>Purpose_of_loan</th>\n",
       "      <th>Credit_Amount</th>\n",
       "      <th>Value_of_Savings_account&amp;bonds</th>\n",
       "      <th>Years_of_Present_Employment</th>\n",
       "      <th>Percentage_of_disposable_income</th>\n",
       "      <th>Sex_&amp;_Marital_Status</th>\n",
       "      <th>...</th>\n",
       "      <th>Duration_in_Present_Residence</th>\n",
       "      <th>Property</th>\n",
       "      <th>Age_in_years</th>\n",
       "      <th>Concurrent_Credits</th>\n",
       "      <th>Housing</th>\n",
       "      <th>No_of_Credits_at_this__Bank</th>\n",
       "      <th>Occupation</th>\n",
       "      <th>No_of_dependents</th>\n",
       "      <th>Telephone</th>\n",
       "      <th>Foreign_Worker</th>\n",
       "    </tr>\n",
       "  </thead>\n",
       "  <tbody>\n",
       "    <tr>\n",
       "      <th>0</th>\n",
       "      <td>1</td>\n",
       "      <td>1</td>\n",
       "      <td>18</td>\n",
       "      <td>4</td>\n",
       "      <td>2</td>\n",
       "      <td>1049</td>\n",
       "      <td>1</td>\n",
       "      <td>2</td>\n",
       "      <td>4</td>\n",
       "      <td>2</td>\n",
       "      <td>...</td>\n",
       "      <td>4</td>\n",
       "      <td>2</td>\n",
       "      <td>21</td>\n",
       "      <td>3</td>\n",
       "      <td>1</td>\n",
       "      <td>1</td>\n",
       "      <td>3</td>\n",
       "      <td>1</td>\n",
       "      <td>1</td>\n",
       "      <td>1</td>\n",
       "    </tr>\n",
       "    <tr>\n",
       "      <th>1</th>\n",
       "      <td>1</td>\n",
       "      <td>1</td>\n",
       "      <td>9</td>\n",
       "      <td>4</td>\n",
       "      <td>0</td>\n",
       "      <td>2799</td>\n",
       "      <td>1</td>\n",
       "      <td>3</td>\n",
       "      <td>2</td>\n",
       "      <td>3</td>\n",
       "      <td>...</td>\n",
       "      <td>2</td>\n",
       "      <td>1</td>\n",
       "      <td>36</td>\n",
       "      <td>3</td>\n",
       "      <td>1</td>\n",
       "      <td>2</td>\n",
       "      <td>3</td>\n",
       "      <td>2</td>\n",
       "      <td>1</td>\n",
       "      <td>1</td>\n",
       "    </tr>\n",
       "    <tr>\n",
       "      <th>2</th>\n",
       "      <td>1</td>\n",
       "      <td>2</td>\n",
       "      <td>12</td>\n",
       "      <td>2</td>\n",
       "      <td>9</td>\n",
       "      <td>841</td>\n",
       "      <td>2</td>\n",
       "      <td>4</td>\n",
       "      <td>2</td>\n",
       "      <td>2</td>\n",
       "      <td>...</td>\n",
       "      <td>4</td>\n",
       "      <td>1</td>\n",
       "      <td>23</td>\n",
       "      <td>3</td>\n",
       "      <td>1</td>\n",
       "      <td>1</td>\n",
       "      <td>2</td>\n",
       "      <td>1</td>\n",
       "      <td>1</td>\n",
       "      <td>1</td>\n",
       "    </tr>\n",
       "    <tr>\n",
       "      <th>3</th>\n",
       "      <td>1</td>\n",
       "      <td>1</td>\n",
       "      <td>12</td>\n",
       "      <td>4</td>\n",
       "      <td>0</td>\n",
       "      <td>2122</td>\n",
       "      <td>1</td>\n",
       "      <td>3</td>\n",
       "      <td>3</td>\n",
       "      <td>3</td>\n",
       "      <td>...</td>\n",
       "      <td>2</td>\n",
       "      <td>1</td>\n",
       "      <td>39</td>\n",
       "      <td>3</td>\n",
       "      <td>1</td>\n",
       "      <td>2</td>\n",
       "      <td>2</td>\n",
       "      <td>2</td>\n",
       "      <td>1</td>\n",
       "      <td>2</td>\n",
       "    </tr>\n",
       "    <tr>\n",
       "      <th>4</th>\n",
       "      <td>1</td>\n",
       "      <td>1</td>\n",
       "      <td>12</td>\n",
       "      <td>4</td>\n",
       "      <td>0</td>\n",
       "      <td>2171</td>\n",
       "      <td>1</td>\n",
       "      <td>3</td>\n",
       "      <td>4</td>\n",
       "      <td>3</td>\n",
       "      <td>...</td>\n",
       "      <td>4</td>\n",
       "      <td>2</td>\n",
       "      <td>38</td>\n",
       "      <td>1</td>\n",
       "      <td>2</td>\n",
       "      <td>2</td>\n",
       "      <td>2</td>\n",
       "      <td>1</td>\n",
       "      <td>1</td>\n",
       "      <td>2</td>\n",
       "    </tr>\n",
       "  </tbody>\n",
       "</table>\n",
       "<p>5 rows × 21 columns</p>\n",
       "</div>"
      ],
      "text/plain": [
       "   Creditability  Status_of_existing_account  Duration_of_Credit_month  \\\n",
       "0              1                           1                        18   \n",
       "1              1                           1                         9   \n",
       "2              1                           2                        12   \n",
       "3              1                           1                        12   \n",
       "4              1                           1                        12   \n",
       "\n",
       "   Payment_Status_of_Previous_Credit(Credit_history)  Purpose_of_loan  \\\n",
       "0                                                  4                2   \n",
       "1                                                  4                0   \n",
       "2                                                  2                9   \n",
       "3                                                  4                0   \n",
       "4                                                  4                0   \n",
       "\n",
       "   Credit_Amount  Value_of_Savings_account&bonds  Years_of_Present_Employment  \\\n",
       "0           1049                               1                            2   \n",
       "1           2799                               1                            3   \n",
       "2            841                               2                            4   \n",
       "3           2122                               1                            3   \n",
       "4           2171                               1                            3   \n",
       "\n",
       "   Percentage_of_disposable_income  Sex_&_Marital_Status  ...  \\\n",
       "0                                4                     2  ...   \n",
       "1                                2                     3  ...   \n",
       "2                                2                     2  ...   \n",
       "3                                3                     3  ...   \n",
       "4                                4                     3  ...   \n",
       "\n",
       "   Duration_in_Present_Residence  Property  Age_in_years  Concurrent_Credits  \\\n",
       "0                              4         2            21                   3   \n",
       "1                              2         1            36                   3   \n",
       "2                              4         1            23                   3   \n",
       "3                              2         1            39                   3   \n",
       "4                              4         2            38                   1   \n",
       "\n",
       "   Housing  No_of_Credits_at_this__Bank  Occupation  No_of_dependents  \\\n",
       "0        1                            1           3                 1   \n",
       "1        1                            2           3                 2   \n",
       "2        1                            1           2                 1   \n",
       "3        1                            2           2                 2   \n",
       "4        2                            2           2                 1   \n",
       "\n",
       "   Telephone  Foreign_Worker  \n",
       "0          1               1  \n",
       "1          1               1  \n",
       "2          1               1  \n",
       "3          1               2  \n",
       "4          1               2  \n",
       "\n",
       "[5 rows x 21 columns]"
      ]
     },
     "execution_count": 164,
     "metadata": {},
     "output_type": "execute_result"
    }
   ],
   "source": [
    "df.head()"
   ]
  },
  {
   "cell_type": "code",
   "execution_count": 165,
   "metadata": {},
   "outputs": [
    {
     "data": {
      "text/plain": [
       "2    530\n",
       "4    293\n",
       "3     88\n",
       "1     49\n",
       "0     40\n",
       "Name: Payment_Status_of_Previous_Credit(Credit_history), dtype: int64"
      ]
     },
     "execution_count": 165,
     "metadata": {},
     "output_type": "execute_result"
    }
   ],
   "source": [
    "df['Payment_Status_of_Previous_Credit(Credit_history)'].value_counts()"
   ]
  },
  {
   "cell_type": "code",
   "execution_count": 166,
   "metadata": {},
   "outputs": [
    {
     "data": {
      "text/plain": [
       "3     280\n",
       "0     234\n",
       "2     181\n",
       "1     103\n",
       "9      97\n",
       "6      50\n",
       "5      22\n",
       "10     12\n",
       "4      12\n",
       "8       9\n",
       "Name: Purpose_of_loan, dtype: int64"
      ]
     },
     "execution_count": 166,
     "metadata": {},
     "output_type": "execute_result"
    }
   ],
   "source": [
    "df['Purpose_of_loan'].value_counts()"
   ]
  },
  {
   "cell_type": "code",
   "execution_count": 167,
   "metadata": {},
   "outputs": [
    {
     "data": {
      "text/plain": [
       "1    700\n",
       "0    300\n",
       "Name: Creditability, dtype: int64"
      ]
     },
     "execution_count": 167,
     "metadata": {},
     "output_type": "execute_result"
    }
   ],
   "source": [
    "df['Creditability'].value_counts()"
   ]
  },
  {
   "cell_type": "code",
   "execution_count": 168,
   "metadata": {},
   "outputs": [
    {
     "data": {
      "text/plain": [
       "<matplotlib.legend.Legend at 0x29824f88eb8>"
      ]
     },
     "execution_count": 168,
     "metadata": {},
     "output_type": "execute_result"
    },
    {
     "data": {
      "image/png": "[encoded data removed]",
      "text/plain": [
       "<Figure size 720x432 with 1 Axes>"
      ]
     },
     "metadata": {},
     "output_type": "display_data"
    }
   ],
   "source": [
    "sns.set_style('whitegrid')\n",
    "plt.figure(figsize = (10,6))\n",
    "df[df['Creditability'] == 0]['Payment_Status_of_Previous_Credit(Credit_history)'].plot('hist', color = 'blue',alpha = 0.5,\n",
    "                                                                                      label = 'Creditability = 0')\n",
    "df[df['Creditability'] == 1]['Payment_Status_of_Previous_Credit(Credit_history)'].plot('hist', color = 'red', alpha = 0.5,\n",
    "                                                                                      label = 'Creditability = 1')\n",
    "plt.legend()"
   ]
  },
  {
   "cell_type": "code",
   "execution_count": 169,
   "metadata": {},
   "outputs": [
    {
     "data": {
      "text/plain": [
       "<matplotlib.legend.Legend at 0x2982640fe10>"
      ]
     },
     "execution_count": 169,
     "metadata": {},
     "output_type": "execute_result"
    },
    {
     "data": {
      "image/png": "[encoded data removed]",
      "text/plain": [
       "<Figure size 720x432 with 1 Axes>"
      ]
     },
     "metadata": {},
     "output_type": "display_data"
    }
   ],
   "source": [
    "sns.set_style('darkgrid')\n",
    "plt.figure(figsize = (10,6))\n",
    "df[df['Creditability'] == 0]['Purpose_of_loan'].plot('hist', color = 'blue',alpha = 0.5,\n",
    "                                                                                      label = 'Creditability = 0')\n",
    "df[df['Creditability'] == 1]['Purpose_of_loan'].plot('hist', color = 'red', alpha = 0.5,\n",
    "                                                                                      label = 'Creditability = 1')\n",
    "plt.legend()"
   ]
  },
  {
   "cell_type": "code",
   "execution_count": 170,
   "metadata": {},
   "outputs": [
    {
     "data": {
      "text/html": [
       "<div>\n",
       "<style scoped>\n",
       "    .dataframe tbody tr th:only-of-type {\n",
       "        vertical-align: middle;\n",
       "    }\n",
       "\n",
       "    .dataframe tbody tr th {\n",
       "        vertical-align: top;\n",
       "    }\n",
       "\n",
       "    .dataframe thead th {\n",
       "        text-align: right;\n",
       "    }\n",
       "</style>\n",
       "<table border=\"1\" class=\"dataframe\">\n",
       "  <thead>\n",
       "    <tr style=\"text-align: right;\">\n",
       "      <th></th>\n",
       "      <th>Creditability</th>\n",
       "      <th>Status_of_existing_account</th>\n",
       "      <th>Duration_of_Credit_month</th>\n",
       "      <th>Payment_Status_of_Previous_Credit(Credit_history)</th>\n",
       "      <th>Purpose_of_loan</th>\n",
       "      <th>Credit_Amount</th>\n",
       "      <th>Value_of_Savings_account&amp;bonds</th>\n",
       "      <th>Years_of_Present_Employment</th>\n",
       "      <th>Percentage_of_disposable_income</th>\n",
       "      <th>Sex_&amp;_Marital_Status</th>\n",
       "      <th>...</th>\n",
       "      <th>Duration_in_Present_Residence</th>\n",
       "      <th>Property</th>\n",
       "      <th>Age_in_years</th>\n",
       "      <th>Concurrent_Credits</th>\n",
       "      <th>Housing</th>\n",
       "      <th>No_of_Credits_at_this__Bank</th>\n",
       "      <th>Occupation</th>\n",
       "      <th>No_of_dependents</th>\n",
       "      <th>Telephone</th>\n",
       "      <th>Foreign_Worker</th>\n",
       "    </tr>\n",
       "  </thead>\n",
       "  <tbody>\n",
       "    <tr>\n",
       "      <th>0</th>\n",
       "      <td>1</td>\n",
       "      <td>1</td>\n",
       "      <td>18</td>\n",
       "      <td>4</td>\n",
       "      <td>2</td>\n",
       "      <td>1049</td>\n",
       "      <td>1</td>\n",
       "      <td>2</td>\n",
       "      <td>4</td>\n",
       "      <td>2</td>\n",
       "      <td>...</td>\n",
       "      <td>4</td>\n",
       "      <td>2</td>\n",
       "      <td>21</td>\n",
       "      <td>3</td>\n",
       "      <td>1</td>\n",
       "      <td>1</td>\n",
       "      <td>3</td>\n",
       "      <td>1</td>\n",
       "      <td>1</td>\n",
       "      <td>1</td>\n",
       "    </tr>\n",
       "    <tr>\n",
       "      <th>1</th>\n",
       "      <td>1</td>\n",
       "      <td>1</td>\n",
       "      <td>9</td>\n",
       "      <td>4</td>\n",
       "      <td>0</td>\n",
       "      <td>2799</td>\n",
       "      <td>1</td>\n",
       "      <td>3</td>\n",
       "      <td>2</td>\n",
       "      <td>3</td>\n",
       "      <td>...</td>\n",
       "      <td>2</td>\n",
       "      <td>1</td>\n",
       "      <td>36</td>\n",
       "      <td>3</td>\n",
       "      <td>1</td>\n",
       "      <td>2</td>\n",
       "      <td>3</td>\n",
       "      <td>2</td>\n",
       "      <td>1</td>\n",
       "      <td>1</td>\n",
       "    </tr>\n",
       "    <tr>\n",
       "      <th>2</th>\n",
       "      <td>1</td>\n",
       "      <td>2</td>\n",
       "      <td>12</td>\n",
       "      <td>2</td>\n",
       "      <td>9</td>\n",
       "      <td>841</td>\n",
       "      <td>2</td>\n",
       "      <td>4</td>\n",
       "      <td>2</td>\n",
       "      <td>2</td>\n",
       "      <td>...</td>\n",
       "      <td>4</td>\n",
       "      <td>1</td>\n",
       "      <td>23</td>\n",
       "      <td>3</td>\n",
       "      <td>1</td>\n",
       "      <td>1</td>\n",
       "      <td>2</td>\n",
       "      <td>1</td>\n",
       "      <td>1</td>\n",
       "      <td>1</td>\n",
       "    </tr>\n",
       "    <tr>\n",
       "      <th>3</th>\n",
       "      <td>1</td>\n",
       "      <td>1</td>\n",
       "      <td>12</td>\n",
       "      <td>4</td>\n",
       "      <td>0</td>\n",
       "      <td>2122</td>\n",
       "      <td>1</td>\n",
       "      <td>3</td>\n",
       "      <td>3</td>\n",
       "      <td>3</td>\n",
       "      <td>...</td>\n",
       "      <td>2</td>\n",
       "      <td>1</td>\n",
       "      <td>39</td>\n",
       "      <td>3</td>\n",
       "      <td>1</td>\n",
       "      <td>2</td>\n",
       "      <td>2</td>\n",
       "      <td>2</td>\n",
       "      <td>1</td>\n",
       "      <td>2</td>\n",
       "    </tr>\n",
       "    <tr>\n",
       "      <th>4</th>\n",
       "      <td>1</td>\n",
       "      <td>1</td>\n",
       "      <td>12</td>\n",
       "      <td>4</td>\n",
       "      <td>0</td>\n",
       "      <td>2171</td>\n",
       "      <td>1</td>\n",
       "      <td>3</td>\n",
       "      <td>4</td>\n",
       "      <td>3</td>\n",
       "      <td>...</td>\n",
       "      <td>4</td>\n",
       "      <td>2</td>\n",
       "      <td>38</td>\n",
       "      <td>1</td>\n",
       "      <td>2</td>\n",
       "      <td>2</td>\n",
       "      <td>2</td>\n",
       "      <td>1</td>\n",
       "      <td>1</td>\n",
       "      <td>2</td>\n",
       "    </tr>\n",
       "  </tbody>\n",
       "</table>\n",
       "<p>5 rows × 21 columns</p>\n",
       "</div>"
      ],
      "text/plain": [
       "   Creditability  Status_of_existing_account  Duration_of_Credit_month  \\\n",
       "0              1                           1                        18   \n",
       "1              1                           1                         9   \n",
       "2              1                           2                        12   \n",
       "3              1                           1                        12   \n",
       "4              1                           1                        12   \n",
       "\n",
       "   Payment_Status_of_Previous_Credit(Credit_history)  Purpose_of_loan  \\\n",
       "0                                                  4                2   \n",
       "1                                                  4                0   \n",
       "2                                                  2                9   \n",
       "3                                                  4                0   \n",
       "4                                                  4                0   \n",
       "\n",
       "   Credit_Amount  Value_of_Savings_account&bonds  Years_of_Present_Employment  \\\n",
       "0           1049                               1                            2   \n",
       "1           2799                               1                            3   \n",
       "2            841                               2                            4   \n",
       "3           2122                               1                            3   \n",
       "4           2171                               1                            3   \n",
       "\n",
       "   Percentage_of_disposable_income  Sex_&_Marital_Status  ...  \\\n",
       "0                                4                     2  ...   \n",
       "1                                2                     3  ...   \n",
       "2                                2                     2  ...   \n",
       "3                                3                     3  ...   \n",
       "4                                4                     3  ...   \n",
       "\n",
       "   Duration_in_Present_Residence  Property  Age_in_years  Concurrent_Credits  \\\n",
       "0                              4         2            21                   3   \n",
       "1                              2         1            36                   3   \n",
       "2                              4         1            23                   3   \n",
       "3                              2         1            39                   3   \n",
       "4                              4         2            38                   1   \n",
       "\n",
       "   Housing  No_of_Credits_at_this__Bank  Occupation  No_of_dependents  \\\n",
       "0        1                            1           3                 1   \n",
       "1        1                            2           3                 2   \n",
       "2        1                            1           2                 1   \n",
       "3        1                            2           2                 2   \n",
       "4        2                            2           2                 1   \n",
       "\n",
       "   Telephone  Foreign_Worker  \n",
       "0          1               1  \n",
       "1          1               1  \n",
       "2          1               1  \n",
       "3          1               2  \n",
       "4          1               2  \n",
       "\n",
       "[5 rows x 21 columns]"
      ]
     },
     "execution_count": 170,
     "metadata": {},
     "output_type": "execute_result"
    }
   ],
   "source": [
    "df.head()"
   ]
  },
  {
   "cell_type": "code",
   "execution_count": 171,
   "metadata": {
    "scrolled": true
   },
   "outputs": [
    {
     "data": {
      "text/plain": [
       "<matplotlib.axes._subplots.AxesSubplot at 0x29826166278>"
      ]
     },
     "execution_count": 171,
     "metadata": {},
     "output_type": "execute_result"
    },
    {
     "data": {
      "image/png": "[encoded data removed]",
      "text/plain": [
       "<Figure size 432x288 with 1 Axes>"
      ]
     },
     "metadata": {},
     "output_type": "display_data"
    }
   ],
   "source": [
    "df['Duration_of_Credit_month'].value_counts().hist()\n",
    "\n",
    "# Duration of 24 months is the highest"
   ]
  },
  {
   "cell_type": "code",
   "execution_count": 172,
   "metadata": {},
   "outputs": [
    {
     "data": {
      "text/plain": [
       "3     280\n",
       "0     234\n",
       "2     181\n",
       "1     103\n",
       "9      97\n",
       "6      50\n",
       "5      22\n",
       "10     12\n",
       "4      12\n",
       "8       9\n",
       "Name: Purpose_of_loan, dtype: int64"
      ]
     },
     "execution_count": 172,
     "metadata": {},
     "output_type": "execute_result"
    }
   ],
   "source": [
    "df['Purpose_of_loan'].value_counts()"
   ]
  },
  {
   "cell_type": "code",
   "execution_count": 173,
   "metadata": {},
   "outputs": [
    {
     "data": {
      "text/plain": [
       "<matplotlib.axes._subplots.AxesSubplot at 0x29826329d30>"
      ]
     },
     "execution_count": 173,
     "metadata": {},
     "output_type": "execute_result"
    },
    {
     "data": {
      "image/png": "[encoded data removed]",
      "text/plain": [
       "<Figure size 720x432 with 1 Axes>"
      ]
     },
     "metadata": {},
     "output_type": "display_data"
    }
   ],
   "source": [
    "sns.set_style('whitegrid')\n",
    "plt.figure(figsize = (10,6))\n",
    "sns.countplot(x = df['Purpose_of_loan'], data = df)"
   ]
  },
  {
   "cell_type": "code",
   "execution_count": 174,
   "metadata": {},
   "outputs": [
    {
     "data": {
      "text/plain": [
       "<matplotlib.axes._subplots.AxesSubplot at 0x29826270940>"
      ]
     },
     "execution_count": 174,
     "metadata": {},
     "output_type": "execute_result"
    },
    {
     "data": {
      "image/png": "[encoded data removed]",
      "text/plain": [
       "<Figure size 720x432 with 1 Axes>"
      ]
     },
     "metadata": {},
     "output_type": "display_data"
    }
   ],
   "source": [
    "sns.set_style('whitegrid')\n",
    "plt.figure(figsize = (10,6))\n",
    "sns.countplot(x = df['Purpose_of_loan'], hue = df['Creditability'], data = df)\n",
    "\n",
    "# Most of the defaulters are in the 'radio/television' segment."
   ]
  },
  {
   "cell_type": "code",
   "execution_count": 175,
   "metadata": {},
   "outputs": [
    {
     "data": {
      "text/plain": [
       "<matplotlib.axes._subplots.AxesSubplot at 0x29826322470>"
      ]
     },
     "execution_count": 175,
     "metadata": {},
     "output_type": "execute_result"
    },
    {
     "data": {
      "image/png": "[encoded data removed]",
      "text/plain": [
       "<Figure size 864x432 with 1 Axes>"
      ]
     },
     "metadata": {},
     "output_type": "display_data"
    }
   ],
   "source": [
    "plt.figure(figsize = (12,6))\n",
    "sns.countplot(x = df['Duration_of_Credit_month'], hue = df['Creditability'])\n",
    "\n",
    "# Most of the credit taken was for 24 months or 12 months.\n",
    "# Highest defaulters subsequently lie in both months."
   ]
  },
  {
   "cell_type": "code",
   "execution_count": 176,
   "metadata": {},
   "outputs": [
    {
     "data": {
      "text/html": [
       "<div>\n",
       "<style scoped>\n",
       "    .dataframe tbody tr th:only-of-type {\n",
       "        vertical-align: middle;\n",
       "    }\n",
       "\n",
       "    .dataframe tbody tr th {\n",
       "        vertical-align: top;\n",
       "    }\n",
       "\n",
       "    .dataframe thead th {\n",
       "        text-align: right;\n",
       "    }\n",
       "</style>\n",
       "<table border=\"1\" class=\"dataframe\">\n",
       "  <thead>\n",
       "    <tr style=\"text-align: right;\">\n",
       "      <th></th>\n",
       "      <th>Creditability</th>\n",
       "      <th>Status_of_existing_account</th>\n",
       "      <th>Duration_of_Credit_month</th>\n",
       "      <th>Payment_Status_of_Previous_Credit(Credit_history)</th>\n",
       "      <th>Purpose_of_loan</th>\n",
       "      <th>Credit_Amount</th>\n",
       "      <th>Value_of_Savings_account&amp;bonds</th>\n",
       "      <th>Years_of_Present_Employment</th>\n",
       "      <th>Percentage_of_disposable_income</th>\n",
       "      <th>Sex_&amp;_Marital_Status</th>\n",
       "      <th>...</th>\n",
       "      <th>Duration_in_Present_Residence</th>\n",
       "      <th>Property</th>\n",
       "      <th>Age_in_years</th>\n",
       "      <th>Concurrent_Credits</th>\n",
       "      <th>Housing</th>\n",
       "      <th>No_of_Credits_at_this__Bank</th>\n",
       "      <th>Occupation</th>\n",
       "      <th>No_of_dependents</th>\n",
       "      <th>Telephone</th>\n",
       "      <th>Foreign_Worker</th>\n",
       "    </tr>\n",
       "  </thead>\n",
       "  <tbody>\n",
       "    <tr>\n",
       "      <th>0</th>\n",
       "      <td>1</td>\n",
       "      <td>1</td>\n",
       "      <td>18</td>\n",
       "      <td>4</td>\n",
       "      <td>2</td>\n",
       "      <td>1049</td>\n",
       "      <td>1</td>\n",
       "      <td>2</td>\n",
       "      <td>4</td>\n",
       "      <td>2</td>\n",
       "      <td>...</td>\n",
       "      <td>4</td>\n",
       "      <td>2</td>\n",
       "      <td>21</td>\n",
       "      <td>3</td>\n",
       "      <td>1</td>\n",
       "      <td>1</td>\n",
       "      <td>3</td>\n",
       "      <td>1</td>\n",
       "      <td>1</td>\n",
       "      <td>1</td>\n",
       "    </tr>\n",
       "    <tr>\n",
       "      <th>1</th>\n",
       "      <td>1</td>\n",
       "      <td>1</td>\n",
       "      <td>9</td>\n",
       "      <td>4</td>\n",
       "      <td>0</td>\n",
       "      <td>2799</td>\n",
       "      <td>1</td>\n",
       "      <td>3</td>\n",
       "      <td>2</td>\n",
       "      <td>3</td>\n",
       "      <td>...</td>\n",
       "      <td>2</td>\n",
       "      <td>1</td>\n",
       "      <td>36</td>\n",
       "      <td>3</td>\n",
       "      <td>1</td>\n",
       "      <td>2</td>\n",
       "      <td>3</td>\n",
       "      <td>2</td>\n",
       "      <td>1</td>\n",
       "      <td>1</td>\n",
       "    </tr>\n",
       "    <tr>\n",
       "      <th>2</th>\n",
       "      <td>1</td>\n",
       "      <td>2</td>\n",
       "      <td>12</td>\n",
       "      <td>2</td>\n",
       "      <td>9</td>\n",
       "      <td>841</td>\n",
       "      <td>2</td>\n",
       "      <td>4</td>\n",
       "      <td>2</td>\n",
       "      <td>2</td>\n",
       "      <td>...</td>\n",
       "      <td>4</td>\n",
       "      <td>1</td>\n",
       "      <td>23</td>\n",
       "      <td>3</td>\n",
       "      <td>1</td>\n",
       "      <td>1</td>\n",
       "      <td>2</td>\n",
       "      <td>1</td>\n",
       "      <td>1</td>\n",
       "      <td>1</td>\n",
       "    </tr>\n",
       "    <tr>\n",
       "      <th>3</th>\n",
       "      <td>1</td>\n",
       "      <td>1</td>\n",
       "      <td>12</td>\n",
       "      <td>4</td>\n",
       "      <td>0</td>\n",
       "      <td>2122</td>\n",
       "      <td>1</td>\n",
       "      <td>3</td>\n",
       "      <td>3</td>\n",
       "      <td>3</td>\n",
       "      <td>...</td>\n",
       "      <td>2</td>\n",
       "      <td>1</td>\n",
       "      <td>39</td>\n",
       "      <td>3</td>\n",
       "      <td>1</td>\n",
       "      <td>2</td>\n",
       "      <td>2</td>\n",
       "      <td>2</td>\n",
       "      <td>1</td>\n",
       "      <td>2</td>\n",
       "    </tr>\n",
       "    <tr>\n",
       "      <th>4</th>\n",
       "      <td>1</td>\n",
       "      <td>1</td>\n",
       "      <td>12</td>\n",
       "      <td>4</td>\n",
       "      <td>0</td>\n",
       "      <td>2171</td>\n",
       "      <td>1</td>\n",
       "      <td>3</td>\n",
       "      <td>4</td>\n",
       "      <td>3</td>\n",
       "      <td>...</td>\n",
       "      <td>4</td>\n",
       "      <td>2</td>\n",
       "      <td>38</td>\n",
       "      <td>1</td>\n",
       "      <td>2</td>\n",
       "      <td>2</td>\n",
       "      <td>2</td>\n",
       "      <td>1</td>\n",
       "      <td>1</td>\n",
       "      <td>2</td>\n",
       "    </tr>\n",
       "  </tbody>\n",
       "</table>\n",
       "<p>5 rows × 21 columns</p>\n",
       "</div>"
      ],
      "text/plain": [
       "   Creditability  Status_of_existing_account  Duration_of_Credit_month  \\\n",
       "0              1                           1                        18   \n",
       "1              1                           1                         9   \n",
       "2              1                           2                        12   \n",
       "3              1                           1                        12   \n",
       "4              1                           1                        12   \n",
       "\n",
       "   Payment_Status_of_Previous_Credit(Credit_history)  Purpose_of_loan  \\\n",
       "0                                                  4                2   \n",
       "1                                                  4                0   \n",
       "2                                                  2                9   \n",
       "3                                                  4                0   \n",
       "4                                                  4                0   \n",
       "\n",
       "   Credit_Amount  Value_of_Savings_account&bonds  Years_of_Present_Employment  \\\n",
       "0           1049                               1                            2   \n",
       "1           2799                               1                            3   \n",
       "2            841                               2                            4   \n",
       "3           2122                               1                            3   \n",
       "4           2171                               1                            3   \n",
       "\n",
       "   Percentage_of_disposable_income  Sex_&_Marital_Status  ...  \\\n",
       "0                                4                     2  ...   \n",
       "1                                2                     3  ...   \n",
       "2                                2                     2  ...   \n",
       "3                                3                     3  ...   \n",
       "4                                4                     3  ...   \n",
       "\n",
       "   Duration_in_Present_Residence  Property  Age_in_years  Concurrent_Credits  \\\n",
       "0                              4         2            21                   3   \n",
       "1                              2         1            36                   3   \n",
       "2                              4         1            23                   3   \n",
       "3                              2         1            39                   3   \n",
       "4                              4         2            38                   1   \n",
       "\n",
       "   Housing  No_of_Credits_at_this__Bank  Occupation  No_of_dependents  \\\n",
       "0        1                            1           3                 1   \n",
       "1        1                            2           3                 2   \n",
       "2        1                            1           2                 1   \n",
       "3        1                            2           2                 2   \n",
       "4        2                            2           2                 1   \n",
       "\n",
       "   Telephone  Foreign_Worker  \n",
       "0          1               1  \n",
       "1          1               1  \n",
       "2          1               1  \n",
       "3          1               2  \n",
       "4          1               2  \n",
       "\n",
       "[5 rows x 21 columns]"
      ]
     },
     "execution_count": 176,
     "metadata": {},
     "output_type": "execute_result"
    }
   ],
   "source": [
    "df.head()"
   ]
  },
  {
   "cell_type": "code",
   "execution_count": 177,
   "metadata": {
    "scrolled": false
   },
   "outputs": [
    {
     "data": {
      "text/plain": [
       "1    454\n",
       "0    166\n",
       "Name: Creditability, dtype: int64"
      ]
     },
     "execution_count": 177,
     "metadata": {},
     "output_type": "execute_result"
    }
   ],
   "source": [
    "df[df['Credit_Amount'] < 3000]['Creditability'].value_counts()\n",
    "\n",
    "# 73% of the people defaulted who had taken the credit amount above 3000."
   ]
  },
  {
   "cell_type": "code",
   "execution_count": 178,
   "metadata": {},
   "outputs": [
    {
     "data": {
      "text/plain": [
       "1    246\n",
       "0    134\n",
       "Name: Creditability, dtype: int64"
      ]
     },
     "execution_count": 178,
     "metadata": {},
     "output_type": "execute_result"
    }
   ],
   "source": [
    "df[df['Credit_Amount'] > 3000]['Creditability'].value_counts()"
   ]
  },
  {
   "cell_type": "code",
   "execution_count": 179,
   "metadata": {},
   "outputs": [],
   "source": [
    "from sklearn.preprocessing import StandardScaler"
   ]
  },
  {
   "cell_type": "code",
   "execution_count": 180,
   "metadata": {},
   "outputs": [],
   "source": [
    "scaler = StandardScaler()"
   ]
  },
  {
   "cell_type": "code",
   "execution_count": 181,
   "metadata": {},
   "outputs": [
    {
     "data": {
      "text/plain": [
       "StandardScaler()"
      ]
     },
     "execution_count": 181,
     "metadata": {},
     "output_type": "execute_result"
    }
   ],
   "source": [
    "scaler.fit(df.drop('Creditability', axis = 1))"
   ]
  },
  {
   "cell_type": "code",
   "execution_count": 182,
   "metadata": {},
   "outputs": [],
   "source": [
    "scaled_features = scaler.transform(df.drop('Creditability', axis = 1))"
   ]
  },
  {
   "cell_type": "code",
   "execution_count": 183,
   "metadata": {},
   "outputs": [
    {
     "data": {
      "text/plain": [
       "array([[-1.25456565, -0.24085723,  1.34401408, ..., -0.42828957,\n",
       "        -0.82331789, -0.19601428],\n",
       "       [-1.25456565, -0.9875727 ,  1.34401408, ...,  2.33486893,\n",
       "        -0.82331789, -0.19601428],\n",
       "       [-0.45902624, -0.73866754, -0.50342796, ..., -0.42828957,\n",
       "        -0.82331789, -0.19601428],\n",
       "       ...,\n",
       "       [ 1.13205258,  0.00804793,  1.34401408, ..., -0.42828957,\n",
       "         1.21459768, -0.19601428],\n",
       "       [-0.45902624, -0.73866754, -0.50342796, ..., -0.42828957,\n",
       "         1.21459768, -0.19601428],\n",
       "       [-1.25456565,  0.75476341, -0.50342796, ..., -0.42828957,\n",
       "        -0.82331789, -0.19601428]])"
      ]
     },
     "execution_count": 183,
     "metadata": {},
     "output_type": "execute_result"
    }
   ],
   "source": [
    "scaled_features"
   ]
  },
  {
   "cell_type": "code",
   "execution_count": 184,
   "metadata": {},
   "outputs": [],
   "source": [
    "df1 = pd.DataFrame(scaled_features, columns = df.columns[1:])"
   ]
  },
  {
   "cell_type": "code",
   "execution_count": 185,
   "metadata": {},
   "outputs": [
    {
     "data": {
      "text/html": [
       "<div>\n",
       "<style scoped>\n",
       "    .dataframe tbody tr th:only-of-type {\n",
       "        vertical-align: middle;\n",
       "    }\n",
       "\n",
       "    .dataframe tbody tr th {\n",
       "        vertical-align: top;\n",
       "    }\n",
       "\n",
       "    .dataframe thead th {\n",
       "        text-align: right;\n",
       "    }\n",
       "</style>\n",
       "<table border=\"1\" class=\"dataframe\">\n",
       "  <thead>\n",
       "    <tr style=\"text-align: right;\">\n",
       "      <th></th>\n",
       "      <th>Status_of_existing_account</th>\n",
       "      <th>Duration_of_Credit_month</th>\n",
       "      <th>Payment_Status_of_Previous_Credit(Credit_history)</th>\n",
       "      <th>Purpose_of_loan</th>\n",
       "      <th>Credit_Amount</th>\n",
       "      <th>Value_of_Savings_account&amp;bonds</th>\n",
       "      <th>Years_of_Present_Employment</th>\n",
       "      <th>Percentage_of_disposable_income</th>\n",
       "      <th>Sex_&amp;_Marital_Status</th>\n",
       "      <th>Guarantors/Debtors</th>\n",
       "      <th>Duration_in_Present_Residence</th>\n",
       "      <th>Property</th>\n",
       "      <th>Age_in_years</th>\n",
       "      <th>Concurrent_Credits</th>\n",
       "      <th>Housing</th>\n",
       "      <th>No_of_Credits_at_this__Bank</th>\n",
       "      <th>Occupation</th>\n",
       "      <th>No_of_dependents</th>\n",
       "      <th>Telephone</th>\n",
       "      <th>Foreign_Worker</th>\n",
       "    </tr>\n",
       "  </thead>\n",
       "  <tbody>\n",
       "    <tr>\n",
       "      <th>0</th>\n",
       "      <td>-1.254566</td>\n",
       "      <td>-0.240857</td>\n",
       "      <td>1.344014</td>\n",
       "      <td>-0.301852</td>\n",
       "      <td>-0.787657</td>\n",
       "      <td>-0.699707</td>\n",
       "      <td>-1.145978</td>\n",
       "      <td>0.918477</td>\n",
       "      <td>-0.963650</td>\n",
       "      <td>-0.303686</td>\n",
       "      <td>1.046987</td>\n",
       "      <td>-0.341055</td>\n",
       "      <td>-1.281573</td>\n",
       "      <td>0.460831</td>\n",
       "      <td>-1.751205</td>\n",
       "      <td>-0.704926</td>\n",
       "      <td>0.146949</td>\n",
       "      <td>-0.428290</td>\n",
       "      <td>-0.823318</td>\n",
       "      <td>-0.196014</td>\n",
       "    </tr>\n",
       "    <tr>\n",
       "      <th>1</th>\n",
       "      <td>-1.254566</td>\n",
       "      <td>-0.987573</td>\n",
       "      <td>1.344014</td>\n",
       "      <td>-1.030963</td>\n",
       "      <td>-0.167384</td>\n",
       "      <td>-0.699707</td>\n",
       "      <td>-0.317959</td>\n",
       "      <td>-0.870183</td>\n",
       "      <td>0.449326</td>\n",
       "      <td>-0.303686</td>\n",
       "      <td>-0.765977</td>\n",
       "      <td>-1.293723</td>\n",
       "      <td>0.040363</td>\n",
       "      <td>0.460831</td>\n",
       "      <td>-1.751205</td>\n",
       "      <td>1.027079</td>\n",
       "      <td>0.146949</td>\n",
       "      <td>2.334869</td>\n",
       "      <td>-0.823318</td>\n",
       "      <td>-0.196014</td>\n",
       "    </tr>\n",
       "    <tr>\n",
       "      <th>2</th>\n",
       "      <td>-0.459026</td>\n",
       "      <td>-0.738668</td>\n",
       "      <td>-0.503428</td>\n",
       "      <td>2.250036</td>\n",
       "      <td>-0.861381</td>\n",
       "      <td>-0.066488</td>\n",
       "      <td>0.510060</td>\n",
       "      <td>-0.870183</td>\n",
       "      <td>-0.963650</td>\n",
       "      <td>-0.303686</td>\n",
       "      <td>1.046987</td>\n",
       "      <td>-1.293723</td>\n",
       "      <td>-1.105315</td>\n",
       "      <td>0.460831</td>\n",
       "      <td>-1.751205</td>\n",
       "      <td>-0.704926</td>\n",
       "      <td>-1.383771</td>\n",
       "      <td>-0.428290</td>\n",
       "      <td>-0.823318</td>\n",
       "      <td>-0.196014</td>\n",
       "    </tr>\n",
       "    <tr>\n",
       "      <th>3</th>\n",
       "      <td>-1.254566</td>\n",
       "      <td>-0.738668</td>\n",
       "      <td>1.344014</td>\n",
       "      <td>-1.030963</td>\n",
       "      <td>-0.407341</td>\n",
       "      <td>-0.699707</td>\n",
       "      <td>-0.317959</td>\n",
       "      <td>0.024147</td>\n",
       "      <td>0.449326</td>\n",
       "      <td>-0.303686</td>\n",
       "      <td>-0.765977</td>\n",
       "      <td>-1.293723</td>\n",
       "      <td>0.304750</td>\n",
       "      <td>0.460831</td>\n",
       "      <td>-1.751205</td>\n",
       "      <td>1.027079</td>\n",
       "      <td>-1.383771</td>\n",
       "      <td>2.334869</td>\n",
       "      <td>-0.823318</td>\n",
       "      <td>5.101669</td>\n",
       "    </tr>\n",
       "    <tr>\n",
       "      <th>4</th>\n",
       "      <td>-1.254566</td>\n",
       "      <td>-0.738668</td>\n",
       "      <td>1.344014</td>\n",
       "      <td>-1.030963</td>\n",
       "      <td>-0.389974</td>\n",
       "      <td>-0.699707</td>\n",
       "      <td>-0.317959</td>\n",
       "      <td>0.918477</td>\n",
       "      <td>0.449326</td>\n",
       "      <td>-0.303686</td>\n",
       "      <td>1.046987</td>\n",
       "      <td>-0.341055</td>\n",
       "      <td>0.216621</td>\n",
       "      <td>-2.375050</td>\n",
       "      <td>0.135869</td>\n",
       "      <td>1.027079</td>\n",
       "      <td>-1.383771</td>\n",
       "      <td>-0.428290</td>\n",
       "      <td>-0.823318</td>\n",
       "      <td>5.101669</td>\n",
       "    </tr>\n",
       "  </tbody>\n",
       "</table>\n",
       "</div>"
      ],
      "text/plain": [
       "   Status_of_existing_account  Duration_of_Credit_month  \\\n",
       "0                   -1.254566                 -0.240857   \n",
       "1                   -1.254566                 -0.987573   \n",
       "2                   -0.459026                 -0.738668   \n",
       "3                   -1.254566                 -0.738668   \n",
       "4                   -1.254566                 -0.738668   \n",
       "\n",
       "   Payment_Status_of_Previous_Credit(Credit_history)  Purpose_of_loan  \\\n",
       "0                                           1.344014        -0.301852   \n",
       "1                                           1.344014        -1.030963   \n",
       "2                                          -0.503428         2.250036   \n",
       "3                                           1.344014        -1.030963   \n",
       "4                                           1.344014        -1.030963   \n",
       "\n",
       "   Credit_Amount  Value_of_Savings_account&bonds  Years_of_Present_Employment  \\\n",
       "0      -0.787657                       -0.699707                    -1.145978   \n",
       "1      -0.167384                       -0.699707                    -0.317959   \n",
       "2      -0.861381                       -0.066488                     0.510060   \n",
       "3      -0.407341                       -0.699707                    -0.317959   \n",
       "4      -0.389974                       -0.699707                    -0.317959   \n",
       "\n",
       "   Percentage_of_disposable_income  Sex_&_Marital_Status  Guarantors/Debtors  \\\n",
       "0                         0.918477             -0.963650           -0.303686   \n",
       "1                        -0.870183              0.449326           -0.303686   \n",
       "2                        -0.870183             -0.963650           -0.303686   \n",
       "3                         0.024147              0.449326           -0.303686   \n",
       "4                         0.918477              0.449326           -0.303686   \n",
       "\n",
       "   Duration_in_Present_Residence  Property  Age_in_years  Concurrent_Credits  \\\n",
       "0                       1.046987 -0.341055     -1.281573            0.460831   \n",
       "1                      -0.765977 -1.293723      0.040363            0.460831   \n",
       "2                       1.046987 -1.293723     -1.105315            0.460831   \n",
       "3                      -0.765977 -1.293723      0.304750            0.460831   \n",
       "4                       1.046987 -0.341055      0.216621           -2.375050   \n",
       "\n",
       "    Housing  No_of_Credits_at_this__Bank  Occupation  No_of_dependents  \\\n",
       "0 -1.751205                    -0.704926    0.146949         -0.428290   \n",
       "1 -1.751205                     1.027079    0.146949          2.334869   \n",
       "2 -1.751205                    -0.704926   -1.383771         -0.428290   \n",
       "3 -1.751205                     1.027079   -1.383771          2.334869   \n",
       "4  0.135869                     1.027079   -1.383771         -0.428290   \n",
       "\n",
       "   Telephone  Foreign_Worker  \n",
       "0  -0.823318       -0.196014  \n",
       "1  -0.823318       -0.196014  \n",
       "2  -0.823318       -0.196014  \n",
       "3  -0.823318        5.101669  \n",
       "4  -0.823318        5.101669  "
      ]
     },
     "execution_count": 185,
     "metadata": {},
     "output_type": "execute_result"
    }
   ],
   "source": [
    "df1.head()"
   ]
  },
  {
   "cell_type": "code",
   "execution_count": 186,
   "metadata": {},
   "outputs": [],
   "source": [
    "from sklearn.model_selection import train_test_split"
   ]
  },
  {
   "cell_type": "code",
   "execution_count": 187,
   "metadata": {},
   "outputs": [],
   "source": [
    "X = df1\n",
    "y = df['Creditability']"
   ]
  },
  {
   "cell_type": "code",
   "execution_count": 188,
   "metadata": {},
   "outputs": [],
   "source": [
    "X_train, X_test, y_train, y_test = train_test_split(X, y, test_size = 0.2, random_state = 101)"
   ]
  },
  {
   "cell_type": "code",
   "execution_count": 189,
   "metadata": {},
   "outputs": [],
   "source": [
    "from sklearn.linear_model import LogisticRegression"
   ]
  },
  {
   "cell_type": "code",
   "execution_count": 190,
   "metadata": {},
   "outputs": [],
   "source": [
    "logmodel = LogisticRegression()"
   ]
  },
  {
   "cell_type": "code",
   "execution_count": 191,
   "metadata": {},
   "outputs": [
    {
     "data": {
      "text/plain": [
       "LogisticRegression()"
      ]
     },
     "execution_count": 191,
     "metadata": {},
     "output_type": "execute_result"
    }
   ],
   "source": [
    "logmodel.fit(X_train, y_train)"
   ]
  },
  {
   "cell_type": "code",
   "execution_count": 192,
   "metadata": {},
   "outputs": [],
   "source": [
    "predictions = logmodel.predict(X_test)"
   ]
  },
  {
   "cell_type": "code",
   "execution_count": 193,
   "metadata": {},
   "outputs": [
    {
     "data": {
      "text/plain": [
       "array([1, 1, 1, 1, 1, 1, 1, 1, 1, 1, 0, 0, 1, 0, 1, 1, 1, 1, 1, 1, 0, 1,\n",
       "       1, 1, 1, 1, 1, 1, 1, 0, 1, 1, 1, 0, 0, 0, 1, 1, 1, 1, 1, 1, 1, 1,\n",
       "       1, 1, 1, 0, 1, 0, 0, 1, 1, 1, 1, 1, 1, 0, 1, 1, 0, 1, 1, 1, 1, 0,\n",
       "       1, 1, 1, 0, 0, 1, 0, 1, 1, 1, 1, 1, 0, 0, 0, 1, 1, 1, 0, 1, 0, 0,\n",
       "       1, 1, 1, 1, 0, 1, 1, 0, 1, 1, 1, 1, 1, 1, 1, 0, 1, 1, 0, 1, 1, 1,\n",
       "       1, 1, 1, 0, 1, 1, 1, 1, 1, 1, 0, 1, 1, 1, 1, 1, 0, 1, 1, 1, 1, 1,\n",
       "       1, 1, 1, 1, 1, 0, 0, 1, 1, 1, 1, 1, 1, 0, 1, 0, 1, 1, 1, 1, 1, 1,\n",
       "       0, 1, 1, 0, 1, 1, 1, 0, 0, 1, 1, 1, 1, 1, 0, 0, 1, 1, 1, 1, 1, 1,\n",
       "       0, 1, 0, 1, 0, 1, 1, 1, 1, 1, 1, 1, 1, 1, 1, 0, 1, 1, 1, 1, 1, 0,\n",
       "       0, 1], dtype=int64)"
      ]
     },
     "execution_count": 193,
     "metadata": {},
     "output_type": "execute_result"
    }
   ],
   "source": [
    "predictions"
   ]
  },
  {
   "cell_type": "code",
   "execution_count": 194,
   "metadata": {},
   "outputs": [],
   "source": [
    "from sklearn.metrics import classification_report, confusion_matrix"
   ]
  },
  {
   "cell_type": "code",
   "execution_count": 195,
   "metadata": {},
   "outputs": [
    {
     "name": "stdout",
     "output_type": "stream",
     "text": [
      "              precision    recall  f1-score   support\n",
      "\n",
      "           0       0.59      0.44      0.50        61\n",
      "           1       0.78      0.86      0.82       139\n",
      "\n",
      "    accuracy                           0.73       200\n",
      "   macro avg       0.68      0.65      0.66       200\n",
      "weighted avg       0.72      0.73      0.72       200\n",
      "\n"
     ]
    }
   ],
   "source": [
    "print(classification_report(y_test, predictions))"
   ]
  },
  {
   "cell_type": "code",
   "execution_count": 196,
   "metadata": {},
   "outputs": [
    {
     "name": "stdout",
     "output_type": "stream",
     "text": [
      "[[ 27  34]\n",
      " [ 19 120]]\n"
     ]
    }
   ],
   "source": [
    "print(confusion_matrix(y_test, predictions))"
   ]
  },
  {
   "cell_type": "code",
   "execution_count": 214,
   "metadata": {},
   "outputs": [],
   "source": [
    "from imblearn import over_sampling\n",
    "from imblearn.over_sampling import SMOTE"
   ]
  },
  {
   "cell_type": "code",
   "execution_count": 215,
   "metadata": {},
   "outputs": [
    {
     "data": {
      "text/plain": [
       "Index(['Status_of_existing_account', 'Duration_of_Credit_month',\n",
       "       'Payment_Status_of_Previous_Credit(Credit_history)', 'Purpose_of_loan',\n",
       "       'Credit_Amount', 'Value_of_Savings_account&bonds',\n",
       "       'Years_of_Present_Employment', 'Percentage_of_disposable_income',\n",
       "       'Sex_&_Marital_Status', 'Guarantors/Debtors',\n",
       "       'Duration_in_Present_Residence', 'Property', 'Age_in_years',\n",
       "       'Concurrent_Credits', 'Housing', 'No_of_Credits_at_this__Bank',\n",
       "       'Occupation', 'No_of_dependents', 'Telephone', 'Foreign_Worker'],\n",
       "      dtype='object')"
      ]
     },
     "execution_count": 215,
     "metadata": {},
     "output_type": "execute_result"
    }
   ],
   "source": [
    "df1.columns"
   ]
  },
  {
   "cell_type": "code",
   "execution_count": 216,
   "metadata": {},
   "outputs": [],
   "source": [
    "X = df1[['Status_of_existing_account', 'Duration_of_Credit_month',\n",
    "       'Payment_Status_of_Previous_Credit(Credit_history)', 'Purpose_of_loan',\n",
    "       'Credit_Amount', 'Value_of_Savings_account&bonds',\n",
    "       'Years_of_Present_Employment', 'Percentage_of_disposable_income',\n",
    "       'Sex_&_Marital_Status', 'Guarantors/Debtors',\n",
    "       'Duration_in_Present_Residence', 'Property', 'Age_in_years',\n",
    "       'Concurrent_Credits', 'Housing', 'No_of_Credits_at_this__Bank',\n",
    "       'Occupation', 'No_of_dependents', 'Telephone', 'Foreign_Worker']]\n",
    "y = df['Creditability']"
   ]
  },
  {
   "cell_type": "code",
   "execution_count": 217,
   "metadata": {},
   "outputs": [],
   "source": [
    "os = SMOTE(random_state=0)\n",
    "\n",
    "X_train, X_test, y_train, y_test = train_test_split(X, y, test_size = 0.3, random_state=0)"
   ]
  },
  {
   "cell_type": "code",
   "execution_count": 218,
   "metadata": {},
   "outputs": [],
   "source": [
    "columns = X_train.columns"
   ]
  },
  {
   "cell_type": "code",
   "execution_count": 219,
   "metadata": {},
   "outputs": [
    {
     "data": {
      "text/plain": [
       "Index(['Status_of_existing_account', 'Duration_of_Credit_month',\n",
       "       'Payment_Status_of_Previous_Credit(Credit_history)', 'Purpose_of_loan',\n",
       "       'Credit_Amount', 'Value_of_Savings_account&bonds',\n",
       "       'Years_of_Present_Employment', 'Percentage_of_disposable_income',\n",
       "       'Sex_&_Marital_Status', 'Guarantors/Debtors',\n",
       "       'Duration_in_Present_Residence', 'Property', 'Age_in_years',\n",
       "       'Concurrent_Credits', 'Housing', 'No_of_Credits_at_this__Bank',\n",
       "       'Occupation', 'No_of_dependents', 'Telephone', 'Foreign_Worker'],\n",
       "      dtype='object')"
      ]
     },
     "execution_count": 219,
     "metadata": {},
     "output_type": "execute_result"
    }
   ],
   "source": [
    "columns"
   ]
  },
  {
   "cell_type": "code",
   "execution_count": 220,
   "metadata": {},
   "outputs": [],
   "source": [
    "os_df1_X, os_df_y = os.fit_sample(X_train, y_train)"
   ]
  },
  {
   "cell_type": "code",
   "execution_count": 221,
   "metadata": {},
   "outputs": [],
   "source": [
    "os_df1_X = pd.DataFrame(data = os_df1_X, columns = columns)"
   ]
  },
  {
   "cell_type": "code",
   "execution_count": 222,
   "metadata": {},
   "outputs": [],
   "source": [
    "os_df_y = pd.DataFrame(data = os_df_y, columns = df['Creditability'])"
   ]
  },
  {
   "cell_type": "code",
   "execution_count": 223,
   "metadata": {},
   "outputs": [],
   "source": [
    "from sklearn.feature_selection import RFE\n",
    "from sklearn.linear_model import LogisticRegression\n",
    "logreg = LogisticRegression()"
   ]
  },
  {
   "cell_type": "code",
   "execution_count": 265,
   "metadata": {},
   "outputs": [],
   "source": [
    "rfe = RFE(logreg, n_features_to_select=15)"
   ]
  },
  {
   "cell_type": "code",
   "execution_count": 266,
   "metadata": {},
   "outputs": [],
   "source": [
    "rfe = rfe.fit(os_df1_X, df['Creditability'])"
   ]
  },
  {
   "cell_type": "code",
   "execution_count": 267,
   "metadata": {},
   "outputs": [
    {
     "name": "stdout",
     "output_type": "stream",
     "text": [
      "[ True False  True False  True  True  True  True  True  True  True False\n",
      "  True False  True  True  True  True  True False]\n",
      "[1 4 1 2 1 1 1 1 1 1 1 6 1 5 1 1 1 1 1 3]\n"
     ]
    }
   ],
   "source": [
    "print(rfe.support_)\n",
    "print(rfe.ranking_)"
   ]
  },
  {
   "cell_type": "code",
   "execution_count": 268,
   "metadata": {},
   "outputs": [
    {
     "data": {
      "text/plain": [
       "Index(['Status_of_existing_account', 'Duration_of_Credit_month',\n",
       "       'Payment_Status_of_Previous_Credit(Credit_history)', 'Purpose_of_loan',\n",
       "       'Credit_Amount', 'Value_of_Savings_account&bonds',\n",
       "       'Years_of_Present_Employment', 'Percentage_of_disposable_income',\n",
       "       'Sex_&_Marital_Status', 'Guarantors/Debtors',\n",
       "       'Duration_in_Present_Residence', 'Property', 'Age_in_years',\n",
       "       'Concurrent_Credits', 'Housing', 'No_of_Credits_at_this__Bank',\n",
       "       'Occupation', 'No_of_dependents', 'Telephone', 'Foreign_Worker'],\n",
       "      dtype='object')"
      ]
     },
     "execution_count": 268,
     "metadata": {},
     "output_type": "execute_result"
    }
   ],
   "source": [
    "df1.columns"
   ]
  },
  {
   "cell_type": "code",
   "execution_count": 269,
   "metadata": {},
   "outputs": [],
   "source": [
    "cols = ['Status_of_existing_account', 'Duration_of_Credit_month',\n",
    "       'Payment_Status_of_Previous_Credit(Credit_history)', 'Purpose_of_loan',\n",
    "       'Credit_Amount', 'Value_of_Savings_account&bonds',\n",
    "       'Years_of_Present_Employment', 'Percentage_of_disposable_income', 'Guarantors/Debtors',\n",
    "       'Duration_in_Present_Residence', 'Property',\n",
    "       'Concurrent_Credits', 'Housing', 'No_of_Credits_at_this__Bank',\n",
    "       'Occupation', 'No_of_dependents']\n",
    "X = os_df1_X[cols]\n",
    "y = os_df_y[df['Creditability']]"
   ]
  },
  {
   "cell_type": "code",
   "execution_count": 270,
   "metadata": {},
   "outputs": [
    {
     "data": {
      "text/plain": [
       "LogisticRegression()"
      ]
     },
     "execution_count": 270,
     "metadata": {},
     "output_type": "execute_result"
    }
   ],
   "source": [
    "logreg.fit(X_train, y_train)"
   ]
  },
  {
   "cell_type": "code",
   "execution_count": 275,
   "metadata": {},
   "outputs": [
    {
     "name": "stdout",
     "output_type": "stream",
     "text": [
      "Accuracy of logistic regression classifier on test set: 0.75\n"
     ]
    }
   ],
   "source": [
    "y_pred = logreg.predict(X_test)\n",
    "print('Accuracy of logistic regression classifier on test set: {:.2f}'.format(logreg.score(X_test, y_test)))"
   ]
  },
  {
   "cell_type": "code",
   "execution_count": 272,
   "metadata": {},
   "outputs": [
    {
     "name": "stdout",
     "output_type": "stream",
     "text": [
      "[[ 42  58]\n",
      " [ 16 184]]\n"
     ]
    }
   ],
   "source": [
    "from sklearn.metrics import confusion_matrix\n",
    "confusion_matrix = confusion_matrix(y_test, y_pred)\n",
    "print(confusion_matrix)"
   ]
  },
  {
   "cell_type": "code",
   "execution_count": 273,
   "metadata": {},
   "outputs": [
    {
     "name": "stdout",
     "output_type": "stream",
     "text": [
      "              precision    recall  f1-score   support\n",
      "\n",
      "           0       0.72      0.42      0.53       100\n",
      "           1       0.76      0.92      0.83       200\n",
      "\n",
      "    accuracy                           0.75       300\n",
      "   macro avg       0.74      0.67      0.68       300\n",
      "weighted avg       0.75      0.75      0.73       300\n",
      "\n"
     ]
    }
   ],
   "source": [
    "print(classification_report(y_test, y_pred))"
   ]
  },
  {
   "cell_type": "code",
   "execution_count": null,
   "metadata": {},
   "outputs": [],
   "source": []
  }
 ],
 "metadata": {
  "kernelspec": {
   "display_name": "Python 3",
   "language": "python",
   "name": "python3"
  },
  "language_info": {
   "codemirror_mode": {
    "name": "ipython",
    "version": 3
   },
   "file_extension": ".py",
   "mimetype": "text/x-python",
   "name": "python",
   "nbconvert_exporter": "python",
   "pygments_lexer": "ipython3",
   "version": "3.7.6"
  }
 },
 "nbformat": 4,
 "nbformat_minor": 2
}
